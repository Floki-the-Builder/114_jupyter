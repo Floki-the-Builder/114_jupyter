{
 "cells": [
  {
   "cell_type": "code",
   "execution_count": 5,
   "id": "223eb1fb",
   "metadata": {},
   "outputs": [],
   "source": [
    "class EmptyStackException(Exception):\n",
    "    massage = \"No items in stack\"\n",
    "\n",
    "class Node:\n",
    "    def __init__(self, data):\n",
    "        self.data = data\n",
    "        self.above = None\n",
    "        \n",
    "class Stack:\n",
    "    def __init__(self):\n",
    "        self.base = None\n",
    "        \n",
    "    def push(self, item):\n",
    "        if not self.base:\n",
    "            self.base = Node(item)\n",
    "        else:\n",
    "            current = self.base\n",
    "            while current.above: # while current.above != None\n",
    "                current = current.above\n",
    "            current.above = Node(item)\n",
    "            \n",
    "    def pop(self):\n",
    "        #### remember that pop both removes and returns the topmost value from our stack.\n",
    "        # if no data in stack \n",
    "            # raise error(\"no item(s) in stack\")\n",
    "        # elif data in stack,\n",
    "            # data at end is removed\n",
    "        # data removed is returned\n",
    "        \n",
    "        if not self.base: # same as self.base == None\n",
    "            raise EmptyStackException(\"Stack is empty.\")\n",
    "        if not self.base.above: # theres no data above data. only one item\n",
    "            datum = self.base.data # save to datum var\n",
    "            self.base = None # delete \n",
    "            self.pop(data) \n",
    "            return datum\n",
    "        current = self.base\n",
    "        while current.above:\n",
    "            prev = current\n",
    "            current = current.above\n",
    "        datum = current.data\n",
    "        prev.above = None\n",
    "        return datum\n",
    "            \n",
    "        \n",
    "        \n",
    "    def is_empty(self):\n",
    "        if not self.base:\n",
    "            return True\n",
    "        return False\n",
    "    \n",
    "#     def size(self):\n",
    "#         pass\n",
    "    \n",
    "#     def peek(self):\n",
    "#         pass\n",
    "        "
   ]
  },
  {
   "cell_type": "code",
   "execution_count": 12,
   "id": "cc69a0cc",
   "metadata": {},
   "outputs": [],
   "source": [
    "def invert(mystring):\n",
    "    stack = Stack()\n",
    "    for letter in mystring:\n",
    "        stack.push(letter)\n",
    "    while not stack.is_empty():\n",
    "        out += stack.pop()\n",
    "    return out\n"
   ]
  },
  {
   "cell_type": "code",
   "execution_count": 13,
   "id": "c425a360",
   "metadata": {},
   "outputs": [
    {
     "ename": "UnboundLocalError",
     "evalue": "local variable 'out' referenced before assignment",
     "output_type": "error",
     "traceback": [
      "\u001b[0;31m---------------------------------------------------------------------------\u001b[0m",
      "\u001b[0;31mUnboundLocalError\u001b[0m                         Traceback (most recent call last)",
      "Input \u001b[0;32mIn [13]\u001b[0m, in \u001b[0;36m<cell line: 1>\u001b[0;34m()\u001b[0m\n\u001b[0;32m----> 1\u001b[0m o \u001b[38;5;241m=\u001b[39m \u001b[43minvert\u001b[49m\u001b[43m(\u001b[49m\u001b[38;5;124;43m\"\u001b[39;49m\u001b[38;5;124;43mArd\u001b[39;49m\u001b[38;5;124;43m\"\u001b[39;49m\u001b[43m)\u001b[49m\n\u001b[1;32m      2\u001b[0m \u001b[38;5;28mprint\u001b[39m(o)\n",
      "Input \u001b[0;32mIn [12]\u001b[0m, in \u001b[0;36minvert\u001b[0;34m(mystring)\u001b[0m\n\u001b[1;32m      4\u001b[0m     stack\u001b[38;5;241m.\u001b[39mpush(letter)\n\u001b[1;32m      5\u001b[0m \u001b[38;5;28;01mwhile\u001b[39;00m \u001b[38;5;129;01mnot\u001b[39;00m stack\u001b[38;5;241m.\u001b[39mis_empty():\n\u001b[0;32m----> 6\u001b[0m     out \u001b[38;5;241m+\u001b[39m\u001b[38;5;241m=\u001b[39m stack\u001b[38;5;241m.\u001b[39mpop()\n\u001b[1;32m      7\u001b[0m \u001b[38;5;28;01mreturn\u001b[39;00m out\n",
      "\u001b[0;31mUnboundLocalError\u001b[0m: local variable 'out' referenced before assignment"
     ]
    }
   ],
   "source": [
    "o = invert(\"Ard\")\n",
    "print(o)"
   ]
  },
  {
   "cell_type": "markdown",
   "id": "b5d2094e",
   "metadata": {},
   "source": [
    "# LInked Lists\n",
    "\n",
    "## Linked List are data structures composed of nodes in which each node must know the following  node's address (via a pointer)\n",
    "\n",
    "### There are tow main types fo linked lists:\n",
    "#### 1. Singly Linked Lists: lists that can only be traversed in a single direction\n",
    "#### 2. Doubly Linked Lists: Lists that can be traversed in two directions (forward and backwards)"
   ]
  },
  {
   "cell_type": "code",
   "execution_count": 16,
   "id": "5ed58cf9",
   "metadata": {},
   "outputs": [],
   "source": [
    "class Node:\n",
    "    def __init__(self, data):\n",
    "        self.data = data\n",
    "        self.next = None\n",
    "        "
   ]
  },
  {
   "cell_type": "code",
   "execution_count": 19,
   "id": "530f8c43",
   "metadata": {},
   "outputs": [],
   "source": [
    "class SinglyLinkedList:\n",
    "    def __init__(self):\n",
    "        self.head = None\n",
    "        \n",
    "    def append(self, item):\n",
    "        if not self.head: # if no item in stack\n",
    "            self.head = Node(item) # add item to head\n",
    "        else:\n",
    "            current = self.head\n",
    "            while current.next:\n",
    "                current = current.next\n",
    "            \n",
    "    def __str__(self):\n",
    "        out = \"[\"\n",
    "        if self.head:\n",
    "            out += self.head.data\n",
    "        current = self.head.next\n",
    "        while current:\n",
    "            out += \", %s\" % self.head.data\n",
    "            current = self.head.next\n",
    "        out += \"]\"\n",
    "        return out\n",
    "    \n",
    "    def insert(self, target, item):\n",
    "        pass\n",
    "    \n",
    "    def remove(self, target):\n",
    "        pass\n",
    "               "
   ]
  },
  {
   "cell_type": "code",
   "execution_count": null,
   "id": "44d703bb",
   "metadata": {},
   "outputs": [],
   "source": []
  }
 ],
 "metadata": {
  "kernelspec": {
   "display_name": "Python 3 (ipykernel)",
   "language": "python",
   "name": "python3"
  },
  "language_info": {
   "codemirror_mode": {
    "name": "ipython",
    "version": 3
   },
   "file_extension": ".py",
   "mimetype": "text/x-python",
   "name": "python",
   "nbconvert_exporter": "python",
   "pygments_lexer": "ipython3",
   "version": "3.10.5"
  }
 },
 "nbformat": 4,
 "nbformat_minor": 5
}

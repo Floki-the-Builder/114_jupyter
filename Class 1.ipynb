{
 "cells": [
  {
   "cell_type": "code",
   "execution_count": 4,
   "id": "b5dc3cd7",
   "metadata": {},
   "outputs": [
    {
     "name": "stdout",
     "output_type": "stream",
     "text": [
      "H\n",
      "e\n",
      "l\n",
      "l\n",
      "o\n",
      " \n",
      "W\n",
      "o\n",
      "r\n",
      "l\n",
      "d\n",
      "!\n"
     ]
    }
   ],
   "source": [
    "for letter in 'Hello World!':\n",
    "    print(letter)\n",
    "\n"
   ]
  },
  {
   "cell_type": "markdown",
   "id": "c5c51920",
   "metadata": {},
   "source": [
    "# Problem 1 \n",
    "## Given two str (string_a and string_b) let's check whether or not these are anagrams of each other given the following criteria:\n",
    "\n",
    "#### Two strings are anagrams of each other if all conditions below are met:\n",
    "1. They must be exactly of the same lenght.\n",
    "2. They must use the exact same characters (no more, no less).\n",
    "\n",
    "`Example: cars and scar, heart and earth, etc.`"
   ]
  },
  {
   "cell_type": "code",
   "execution_count": 7,
   "id": "abf51e08",
   "metadata": {},
   "outputs": [],
   "source": [
    "# Instructions: populate the function below, so that it retyrns True if the parameters are anagrams,\n",
    "#False otherwise.\n",
    "\n",
    "def are_anagrams(string_a, string_b):\n",
    "    pass # remove pass when you've impoemented the solution\n",
    "\n",
    "# without syntactic sugar"
   ]
  },
  {
   "cell_type": "code",
   "execution_count": 9,
   "id": "cd322586",
   "metadata": {},
   "outputs": [],
   "source": [
    "# BAD SOLUTION\n",
    "\n",
    "def bad_are_anagrams(string_a, string_b):\n",
    "    return sorted(string_a) == sorted(string_b)\n"
   ]
  },
  {
   "cell_type": "code",
   "execution_count": 10,
   "id": "75ff76cd",
   "metadata": {},
   "outputs": [
    {
     "data": {
      "text/plain": [
       "True"
      ]
     },
     "execution_count": 10,
     "metadata": {},
     "output_type": "execute_result"
    }
   ],
   "source": [
    "bad_are_anagrams(\"cars\", \"scar\")"
   ]
  }
 ],
 "metadata": {
  "kernelspec": {
   "display_name": "Python 3 (ipykernel)",
   "language": "python",
   "name": "python3"
  },
  "language_info": {
   "codemirror_mode": {
    "name": "ipython",
    "version": 3
   },
   "file_extension": ".py",
   "mimetype": "text/x-python",
   "name": "python",
   "nbconvert_exporter": "python",
   "pygments_lexer": "ipython3",
   "version": "3.10.5"
  }
 },
 "nbformat": 4,
 "nbformat_minor": 5
}
